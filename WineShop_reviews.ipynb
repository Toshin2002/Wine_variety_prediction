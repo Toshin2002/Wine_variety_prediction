{
 "cells": [
  {
   "cell_type": "code",
   "execution_count": 1,
   "id": "b8a00248",
   "metadata": {},
   "outputs": [],
   "source": [
    "import pandas as pd\n",
    "import numpy as np \n"
   ]
  },
  {
   "cell_type": "code",
   "execution_count": 2,
   "id": "b1a8c5c8",
   "metadata": {},
   "outputs": [],
   "source": [
    "df = pd.read_csv('OSX_DS_assignment.csv')"
   ]
  },
  {
   "cell_type": "code",
   "execution_count": 3,
   "id": "a507d81c",
   "metadata": {},
   "outputs": [
    {
     "data": {
      "text/plain": [
       "(103322, 12)"
      ]
     },
     "execution_count": 3,
     "metadata": {},
     "output_type": "execute_result"
    }
   ],
   "source": [
    "df.shape"
   ]
  },
  {
   "cell_type": "code",
   "execution_count": 4,
   "id": "016f2ee3",
   "metadata": {},
   "outputs": [
    {
     "data": {
      "text/html": [
       "<div>\n",
       "<style scoped>\n",
       "    .dataframe tbody tr th:only-of-type {\n",
       "        vertical-align: middle;\n",
       "    }\n",
       "\n",
       "    .dataframe tbody tr th {\n",
       "        vertical-align: top;\n",
       "    }\n",
       "\n",
       "    .dataframe thead th {\n",
       "        text-align: right;\n",
       "    }\n",
       "</style>\n",
       "<table border=\"1\" class=\"dataframe\">\n",
       "  <thead>\n",
       "    <tr style=\"text-align: right;\">\n",
       "      <th></th>\n",
       "      <th>user_name</th>\n",
       "      <th>country</th>\n",
       "      <th>review_title</th>\n",
       "      <th>review_description</th>\n",
       "      <th>designation</th>\n",
       "      <th>points</th>\n",
       "      <th>price</th>\n",
       "      <th>province</th>\n",
       "      <th>region_1</th>\n",
       "      <th>region_2</th>\n",
       "      <th>winery</th>\n",
       "      <th>variety</th>\n",
       "    </tr>\n",
       "  </thead>\n",
       "  <tbody>\n",
       "    <tr>\n",
       "      <th>0</th>\n",
       "      <td>@kerinokeefe</td>\n",
       "      <td>Italy</td>\n",
       "      <td>Nicosia 2013 Vulkà Bianco  (Etna)</td>\n",
       "      <td>Aromas include tropical fruit, broom, brimston...</td>\n",
       "      <td>Vulkà Bianco</td>\n",
       "      <td>87</td>\n",
       "      <td>NaN</td>\n",
       "      <td>Sicily &amp; Sardinia</td>\n",
       "      <td>Etna</td>\n",
       "      <td>NaN</td>\n",
       "      <td>Nicosia</td>\n",
       "      <td>White Blend</td>\n",
       "    </tr>\n",
       "    <tr>\n",
       "      <th>1</th>\n",
       "      <td>@vossroger</td>\n",
       "      <td>Portugal</td>\n",
       "      <td>Quinta dos Avidagos 2011 Avidagos Red (Douro)</td>\n",
       "      <td>This is ripe and fruity, a wine that is smooth...</td>\n",
       "      <td>Avidagos</td>\n",
       "      <td>87</td>\n",
       "      <td>15.0</td>\n",
       "      <td>Douro</td>\n",
       "      <td>NaN</td>\n",
       "      <td>NaN</td>\n",
       "      <td>Quinta dos Avidagos</td>\n",
       "      <td>Portuguese Red</td>\n",
       "    </tr>\n",
       "    <tr>\n",
       "      <th>2</th>\n",
       "      <td>@paulgwine</td>\n",
       "      <td>US</td>\n",
       "      <td>Rainstorm 2013 Pinot Gris (Willamette Valley)</td>\n",
       "      <td>Tart and snappy, the flavors of lime flesh and...</td>\n",
       "      <td>NaN</td>\n",
       "      <td>87</td>\n",
       "      <td>14.0</td>\n",
       "      <td>Oregon</td>\n",
       "      <td>Willamette Valley</td>\n",
       "      <td>Willamette Valley</td>\n",
       "      <td>Rainstorm</td>\n",
       "      <td>Pinot Gris</td>\n",
       "    </tr>\n",
       "    <tr>\n",
       "      <th>3</th>\n",
       "      <td>NaN</td>\n",
       "      <td>US</td>\n",
       "      <td>St. Julian 2013 Reserve Late Harvest Riesling ...</td>\n",
       "      <td>Pineapple rind, lemon pith and orange blossom ...</td>\n",
       "      <td>Reserve Late Harvest</td>\n",
       "      <td>87</td>\n",
       "      <td>13.0</td>\n",
       "      <td>Michigan</td>\n",
       "      <td>Lake Michigan Shore</td>\n",
       "      <td>NaN</td>\n",
       "      <td>St. Julian</td>\n",
       "      <td>Riesling</td>\n",
       "    </tr>\n",
       "    <tr>\n",
       "      <th>4</th>\n",
       "      <td>@paulgwine</td>\n",
       "      <td>US</td>\n",
       "      <td>Sweet Cheeks 2012 Vintner's Reserve Wild Child...</td>\n",
       "      <td>Much like the regular bottling from 2012, this...</td>\n",
       "      <td>Vintner's Reserve Wild Child Block</td>\n",
       "      <td>87</td>\n",
       "      <td>65.0</td>\n",
       "      <td>Oregon</td>\n",
       "      <td>Willamette Valley</td>\n",
       "      <td>Willamette Valley</td>\n",
       "      <td>Sweet Cheeks</td>\n",
       "      <td>Pinot Noir</td>\n",
       "    </tr>\n",
       "  </tbody>\n",
       "</table>\n",
       "</div>"
      ],
      "text/plain": [
       "      user_name   country                                       review_title  \\\n",
       "0  @kerinokeefe     Italy                  Nicosia 2013 Vulkà Bianco  (Etna)   \n",
       "1    @vossroger  Portugal      Quinta dos Avidagos 2011 Avidagos Red (Douro)   \n",
       "2   @paulgwine         US      Rainstorm 2013 Pinot Gris (Willamette Valley)   \n",
       "3           NaN        US  St. Julian 2013 Reserve Late Harvest Riesling ...   \n",
       "4   @paulgwine         US  Sweet Cheeks 2012 Vintner's Reserve Wild Child...   \n",
       "\n",
       "                                  review_description  \\\n",
       "0  Aromas include tropical fruit, broom, brimston...   \n",
       "1  This is ripe and fruity, a wine that is smooth...   \n",
       "2  Tart and snappy, the flavors of lime flesh and...   \n",
       "3  Pineapple rind, lemon pith and orange blossom ...   \n",
       "4  Much like the regular bottling from 2012, this...   \n",
       "\n",
       "                          designation  points  price           province  \\\n",
       "0                        Vulkà Bianco      87    NaN  Sicily & Sardinia   \n",
       "1                            Avidagos      87   15.0              Douro   \n",
       "2                                 NaN      87   14.0             Oregon   \n",
       "3                Reserve Late Harvest      87   13.0           Michigan   \n",
       "4  Vintner's Reserve Wild Child Block      87   65.0             Oregon   \n",
       "\n",
       "              region_1           region_2               winery         variety  \n",
       "0                 Etna                NaN              Nicosia     White Blend  \n",
       "1                  NaN                NaN  Quinta dos Avidagos  Portuguese Red  \n",
       "2    Willamette Valley  Willamette Valley            Rainstorm      Pinot Gris  \n",
       "3  Lake Michigan Shore                NaN           St. Julian        Riesling  \n",
       "4    Willamette Valley  Willamette Valley         Sweet Cheeks      Pinot Noir  "
      ]
     },
     "execution_count": 4,
     "metadata": {},
     "output_type": "execute_result"
    }
   ],
   "source": [
    "df.head(5)"
   ]
  },
  {
   "cell_type": "code",
   "execution_count": 5,
   "id": "88902e29",
   "metadata": {},
   "outputs": [
    {
     "data": {
      "text/plain": [
       "user_name             24131\n",
       "country                  39\n",
       "review_title              0\n",
       "review_description        0\n",
       "designation           29636\n",
       "points                    0\n",
       "price                  6963\n",
       "province                 39\n",
       "region_1              16068\n",
       "region_2              58459\n",
       "winery                    0\n",
       "variety                   0\n",
       "dtype: int64"
      ]
     },
     "execution_count": 5,
     "metadata": {},
     "output_type": "execute_result"
    }
   ],
   "source": [
    "df.isnull().sum()"
   ]
  },
  {
   "cell_type": "code",
   "execution_count": 6,
   "id": "6b726121",
   "metadata": {},
   "outputs": [
    {
     "name": "stdout",
     "output_type": "stream",
     "text": [
      "95434\n",
      "28\n"
     ]
    }
   ],
   "source": [
    "# df.loc[(df['price'].isnull()) & (df['region_1'].isnull())].shape\n",
    "print(df['review_description'].nunique())\n",
    "print(df['variety'].nunique())"
   ]
  },
  {
   "cell_type": "code",
   "execution_count": 7,
   "id": "c078e9da",
   "metadata": {},
   "outputs": [
    {
     "name": "stdout",
     "output_type": "stream",
     "text": [
      "Pinot Noir                    13272\n",
      "Chardonnay                    11753\n",
      "Cabernet Sauvignon             9472\n",
      "Red Blend                      8946\n",
      "Bordeaux-style Red Blend       6915\n",
      "Riesling                       5189\n",
      "Sauvignon Blanc                4967\n",
      "Syrah                          4142\n",
      "Rosé                           3564\n",
      "Merlot                         3102\n",
      "Nebbiolo                       2804\n",
      "Zinfandel                      2714\n",
      "Sangiovese                     2707\n",
      "Malbec                         2652\n",
      "Portuguese Red                 2466\n",
      "White Blend                    2360\n",
      "Sparkling Blend                2153\n",
      "Tempranillo                    1810\n",
      "Rhône-style Red Blend          1471\n",
      "Pinot Gris                     1455\n",
      "Champagne Blend                1396\n",
      "Cabernet Franc                 1353\n",
      "Grüner Veltliner               1345\n",
      "Portuguese White               1159\n",
      "Bordeaux-style White Blend     1066\n",
      "Pinot Grigio                   1052\n",
      "Gamay                          1025\n",
      "Gewürztraminer                 1012\n",
      "Name: variety, dtype: int64\n"
     ]
    }
   ],
   "source": [
    "# print(df['country'].value_counts())\n",
    "# print(df['province'].value_counts())\n",
    "print(df['variety'].value_counts())\n",
    "# print(df['points'].value_counts())"
   ]
  },
  {
   "cell_type": "code",
   "execution_count": 8,
   "id": "ea821a0a",
   "metadata": {},
   "outputs": [
    {
     "name": "stdout",
     "output_type": "stream",
     "text": [
      "(16068, 12)\n"
     ]
    }
   ],
   "source": [
    "print(df.loc[df['region_1'].isnull() & df['region_2'].isnull() ].shape)"
   ]
  },
  {
   "cell_type": "code",
   "execution_count": 9,
   "id": "c51de041",
   "metadata": {},
   "outputs": [
    {
     "name": "stdout",
     "output_type": "stream",
     "text": [
      "0         Aromas include tropical fruit, broom, brimston...\n",
      "1         This is ripe and fruity, a wine that is smooth...\n",
      "2         Tart and snappy, the flavors of lime flesh and...\n",
      "3         Pineapple rind, lemon pith and orange blossom ...\n",
      "4         Much like the regular bottling from 2012, this...\n",
      "                                ...                        \n",
      "103317    Notes of honeysuckle and cantaloupe sweeten th...\n",
      "103318    Citation is given as much as a decade of bottl...\n",
      "103319    Well-drained gravel soil gives this wine its c...\n",
      "103320    A dry style of Pinot Gris, this is crisp with ...\n",
      "103321    Big, rich and off-dry, this is powered by inte...\n",
      "Name: review_description, Length: 103322, dtype: object\n"
     ]
    }
   ],
   "source": [
    "df_desc = df.filter(['review_description','variety'], axis=1)\n",
    "print(df_desc['review_description'])"
   ]
  },
  {
   "cell_type": "code",
   "execution_count": 10,
   "id": "d5a2acd9",
   "metadata": {},
   "outputs": [
    {
     "name": "stderr",
     "output_type": "stream",
     "text": [
      "[nltk_data] Downloading package punkt to\n",
      "[nltk_data]     C:\\Users\\Lenovo\\AppData\\Roaming\\nltk_data...\n",
      "[nltk_data]   Package punkt is already up-to-date!\n",
      "[nltk_data] Downloading package stopwords to\n",
      "[nltk_data]     C:\\Users\\Lenovo\\AppData\\Roaming\\nltk_data...\n",
      "[nltk_data]   Package stopwords is already up-to-date!\n",
      "[nltk_data] Downloading package wordnet to\n",
      "[nltk_data]     C:\\Users\\Lenovo\\AppData\\Roaming\\nltk_data...\n",
      "[nltk_data]   Package wordnet is already up-to-date!\n"
     ]
    },
    {
     "data": {
      "text/plain": [
       "True"
      ]
     },
     "execution_count": 10,
     "metadata": {},
     "output_type": "execute_result"
    }
   ],
   "source": [
    "import nltk\n",
    "from nltk.corpus import stopwords\n",
    "from nltk.stem import WordNetLemmatizer\n",
    "from nltk.tokenize import word_tokenize\n",
    "\n",
    "nltk.download('punkt')\n",
    "nltk.download('stopwords')\n",
    "nltk.download('wordnet')"
   ]
  },
  {
   "cell_type": "code",
   "execution_count": 11,
   "id": "71a9c1ee",
   "metadata": {},
   "outputs": [
    {
     "name": "stdout",
     "output_type": "stream",
     "text": [
      "                                  review_description             variety\n",
      "0  aroma include tropical fruit broom brimstone d...         White Blend\n",
      "1  ripe fruity wine smooth still structured firm ...      Portuguese Red\n",
      "2  tart snappy flavor lime flesh rind dominate gr...          Pinot Gris\n",
      "3  pineapple rind lemon pith orange blossom start...            Riesling\n",
      "4  much like regular bottling come across rather ...          Pinot Noir\n",
      "5  dry restrained wine offer spice profusion bala...      Gewürztraminer\n",
      "6  savory dried thyme note accent sunnier flavor ...      Gewürztraminer\n",
      "7  great depth flavor fresh apple pear fruit touc...          Pinot Gris\n",
      "8  soft supple plum envelope oaky structure caber...  Cabernet Sauvignon\n",
      "9  dry wine spicy tight taut texture strongly min...      Gewürztraminer\n"
     ]
    }
   ],
   "source": [
    "lemmatizer = WordNetLemmatizer()\n",
    "stop_words = set(stopwords.words('english'))\n",
    "\n",
    "def preprocess_text(text):\n",
    "    tokens = word_tokenize(text.lower())  # Tokenize the text\n",
    "    filtered_tokens = [lemmatizer.lemmatize(token) for token in tokens if token.isalpha() and token not in stop_words]\n",
    "    return ' '.join(filtered_tokens)\n",
    "\n",
    "df_desc['review_description'] = df_desc['review_description'].apply(preprocess_text)\n",
    "print(df_desc.head(10))"
   ]
  },
  {
   "cell_type": "code",
   "execution_count": 12,
   "id": "b376a1e8",
   "metadata": {},
   "outputs": [
    {
     "data": {
      "text/plain": [
       "<103322x28125 sparse matrix of type '<class 'numpy.float64'>'\n",
       "\twith 3567254 stored elements in Compressed Sparse Row format>"
      ]
     },
     "execution_count": 12,
     "metadata": {},
     "output_type": "execute_result"
    }
   ],
   "source": [
    "from sklearn.feature_extraction.text import TfidfVectorizer\n",
    "\n",
    "vect = TfidfVectorizer()\n",
    "new_df = vect.fit_transform(df['review_description'])\n",
    "new_df"
   ]
  },
  {
   "cell_type": "code",
   "execution_count": 13,
   "id": "627757dc",
   "metadata": {},
   "outputs": [
    {
     "data": {
      "text/plain": [
       "(103322, 28125)"
      ]
     },
     "execution_count": 13,
     "metadata": {},
     "output_type": "execute_result"
    }
   ],
   "source": [
    "new_df.shape"
   ]
  },
  {
   "cell_type": "code",
   "execution_count": 14,
   "id": "5e53e723",
   "metadata": {},
   "outputs": [
    {
     "data": {
      "text/html": [
       "<div>\n",
       "<style scoped>\n",
       "    .dataframe tbody tr th:only-of-type {\n",
       "        vertical-align: middle;\n",
       "    }\n",
       "\n",
       "    .dataframe tbody tr th {\n",
       "        vertical-align: top;\n",
       "    }\n",
       "\n",
       "    .dataframe thead th {\n",
       "        text-align: right;\n",
       "    }\n",
       "</style>\n",
       "<table border=\"1\" class=\"dataframe\">\n",
       "  <thead>\n",
       "    <tr style=\"text-align: right;\">\n",
       "      <th></th>\n",
       "      <th>review_description</th>\n",
       "      <th>variety</th>\n",
       "      <th>variety_encoded</th>\n",
       "    </tr>\n",
       "  </thead>\n",
       "  <tbody>\n",
       "    <tr>\n",
       "      <th>0</th>\n",
       "      <td>aroma include tropical fruit broom brimstone d...</td>\n",
       "      <td>White Blend</td>\n",
       "      <td>26</td>\n",
       "    </tr>\n",
       "    <tr>\n",
       "      <th>1</th>\n",
       "      <td>ripe fruity wine smooth still structured firm ...</td>\n",
       "      <td>Portuguese Red</td>\n",
       "      <td>15</td>\n",
       "    </tr>\n",
       "    <tr>\n",
       "      <th>2</th>\n",
       "      <td>tart snappy flavor lime flesh rind dominate gr...</td>\n",
       "      <td>Pinot Gris</td>\n",
       "      <td>13</td>\n",
       "    </tr>\n",
       "    <tr>\n",
       "      <th>3</th>\n",
       "      <td>pineapple rind lemon pith orange blossom start...</td>\n",
       "      <td>Riesling</td>\n",
       "      <td>19</td>\n",
       "    </tr>\n",
       "    <tr>\n",
       "      <th>4</th>\n",
       "      <td>much like regular bottling come across rather ...</td>\n",
       "      <td>Pinot Noir</td>\n",
       "      <td>14</td>\n",
       "    </tr>\n",
       "    <tr>\n",
       "      <th>...</th>\n",
       "      <td>...</td>\n",
       "      <td>...</td>\n",
       "      <td>...</td>\n",
       "    </tr>\n",
       "    <tr>\n",
       "      <th>103317</th>\n",
       "      <td>note honeysuckle cantaloupe sweeten deliciousl...</td>\n",
       "      <td>Riesling</td>\n",
       "      <td>19</td>\n",
       "    </tr>\n",
       "    <tr>\n",
       "      <th>103318</th>\n",
       "      <td>citation given much decade bottle age prior re...</td>\n",
       "      <td>Pinot Noir</td>\n",
       "      <td>14</td>\n",
       "    </tr>\n",
       "    <tr>\n",
       "      <th>103319</th>\n",
       "      <td>gravel soil give wine crisp dry character ripe...</td>\n",
       "      <td>Gewürztraminer</td>\n",
       "      <td>7</td>\n",
       "    </tr>\n",
       "    <tr>\n",
       "      <th>103320</th>\n",
       "      <td>dry style pinot gris crisp acidity also weight...</td>\n",
       "      <td>Pinot Gris</td>\n",
       "      <td>13</td>\n",
       "    </tr>\n",
       "    <tr>\n",
       "      <th>103321</th>\n",
       "      <td>big rich powered intense spiciness rounded tex...</td>\n",
       "      <td>Gewürztraminer</td>\n",
       "      <td>7</td>\n",
       "    </tr>\n",
       "  </tbody>\n",
       "</table>\n",
       "<p>103322 rows × 3 columns</p>\n",
       "</div>"
      ],
      "text/plain": [
       "                                       review_description         variety  \\\n",
       "0       aroma include tropical fruit broom brimstone d...     White Blend   \n",
       "1       ripe fruity wine smooth still structured firm ...  Portuguese Red   \n",
       "2       tart snappy flavor lime flesh rind dominate gr...      Pinot Gris   \n",
       "3       pineapple rind lemon pith orange blossom start...        Riesling   \n",
       "4       much like regular bottling come across rather ...      Pinot Noir   \n",
       "...                                                   ...             ...   \n",
       "103317  note honeysuckle cantaloupe sweeten deliciousl...        Riesling   \n",
       "103318  citation given much decade bottle age prior re...      Pinot Noir   \n",
       "103319  gravel soil give wine crisp dry character ripe...  Gewürztraminer   \n",
       "103320  dry style pinot gris crisp acidity also weight...      Pinot Gris   \n",
       "103321  big rich powered intense spiciness rounded tex...  Gewürztraminer   \n",
       "\n",
       "        variety_encoded  \n",
       "0                    26  \n",
       "1                    15  \n",
       "2                    13  \n",
       "3                    19  \n",
       "4                    14  \n",
       "...                 ...  \n",
       "103317               19  \n",
       "103318               14  \n",
       "103319                7  \n",
       "103320               13  \n",
       "103321                7  \n",
       "\n",
       "[103322 rows x 3 columns]"
      ]
     },
     "execution_count": 14,
     "metadata": {},
     "output_type": "execute_result"
    }
   ],
   "source": [
    "from sklearn.preprocessing import LabelEncoder\n",
    "\n",
    "le = LabelEncoder()\n",
    "df_desc['variety_encoded'] = le.fit_transform(df_desc['variety'])\n",
    "df_desc"
   ]
  },
  {
   "cell_type": "code",
   "execution_count": 15,
   "id": "c0ffbe3a",
   "metadata": {},
   "outputs": [],
   "source": [
    "from sklearn.model_selection import train_test_split\n",
    "\n",
    "X_train, X_test, y_train, y_test = train_test_split(new_df, df_desc['variety_encoded'], test_size=0.2, random_state=0)"
   ]
  },
  {
   "cell_type": "code",
   "execution_count": 34,
   "id": "a7b7acd6",
   "metadata": {},
   "outputs": [
    {
     "data": {
      "text/plain": [
       "RandomForestClassifier(n_estimators=75, random_state=42)"
      ]
     },
     "execution_count": 34,
     "metadata": {},
     "output_type": "execute_result"
    }
   ],
   "source": [
    "# from sklearn.tree import DecisionTreeClassifier\n",
    "from sklearn.ensemble import RandomForestClassifier\n",
    "# dt = DecisionTreeClassifier()\n",
    "rf = RandomForestClassifier(n_estimators=75,random_state=42)\n",
    "rf.fit(X_train, y_train)"
   ]
  },
  {
   "cell_type": "code",
   "execution_count": 35,
   "id": "aff1af32",
   "metadata": {},
   "outputs": [
    {
     "data": {
      "text/plain": [
       "array([19, 14,  3, ..., 27, 21, 14])"
      ]
     },
     "execution_count": 35,
     "metadata": {},
     "output_type": "execute_result"
    }
   ],
   "source": [
    "y_pred_rf = rf.predict(X_test)\n",
    "y_pred_rf"
   ]
  },
  {
   "cell_type": "code",
   "execution_count": 23,
   "id": "02f07a3f",
   "metadata": {},
   "outputs": [
    {
     "data": {
      "text/plain": [
       "MultinomialNB()"
      ]
     },
     "execution_count": 23,
     "metadata": {},
     "output_type": "execute_result"
    }
   ],
   "source": [
    "from sklearn.naive_bayes import MultinomialNB\n",
    "\n",
    "nb = MultinomialNB()\n",
    "nb.fit(X_train, y_train)\n"
   ]
  },
  {
   "cell_type": "code",
   "execution_count": 24,
   "id": "cf272b79",
   "metadata": {},
   "outputs": [
    {
     "data": {
      "text/plain": [
       "array([ 5, 14, 17, ..., 14, 17, 14])"
      ]
     },
     "execution_count": 24,
     "metadata": {},
     "output_type": "execute_result"
    }
   ],
   "source": [
    "y_pred_nb = nb.predict(X_test)\n",
    "y_pred_nb"
   ]
  },
  {
   "cell_type": "code",
   "execution_count": 36,
   "id": "af04fce9",
   "metadata": {},
   "outputs": [
    {
     "name": "stdout",
     "output_type": "stream",
     "text": [
      "Accuracy Score: 0.649116864263247\n"
     ]
    }
   ],
   "source": [
    "from sklearn.metrics import accuracy_score\n",
    "\n",
    "accuracy = accuracy_score(y_test, y_pred_rf)\n",
    "\n",
    "print(\"Accuracy Score:\", accuracy)"
   ]
  },
  {
   "cell_type": "code",
   "execution_count": 30,
   "id": "5cbc8e9f",
   "metadata": {},
   "outputs": [
    {
     "data": {
      "text/html": [
       "<div>\n",
       "<style scoped>\n",
       "    .dataframe tbody tr th:only-of-type {\n",
       "        vertical-align: middle;\n",
       "    }\n",
       "\n",
       "    .dataframe tbody tr th {\n",
       "        vertical-align: top;\n",
       "    }\n",
       "\n",
       "    .dataframe thead th {\n",
       "        text-align: right;\n",
       "    }\n",
       "</style>\n",
       "<table border=\"1\" class=\"dataframe\">\n",
       "  <thead>\n",
       "    <tr style=\"text-align: right;\">\n",
       "      <th></th>\n",
       "      <th>y_test</th>\n",
       "      <th>y_pred</th>\n",
       "    </tr>\n",
       "  </thead>\n",
       "  <tbody>\n",
       "    <tr>\n",
       "      <th>93336</th>\n",
       "      <td>19</td>\n",
       "      <td>5</td>\n",
       "    </tr>\n",
       "    <tr>\n",
       "      <th>1550</th>\n",
       "      <td>14</td>\n",
       "      <td>14</td>\n",
       "    </tr>\n",
       "    <tr>\n",
       "      <th>58515</th>\n",
       "      <td>17</td>\n",
       "      <td>17</td>\n",
       "    </tr>\n",
       "    <tr>\n",
       "      <th>78259</th>\n",
       "      <td>5</td>\n",
       "      <td>5</td>\n",
       "    </tr>\n",
       "    <tr>\n",
       "      <th>35286</th>\n",
       "      <td>17</td>\n",
       "      <td>17</td>\n",
       "    </tr>\n",
       "    <tr>\n",
       "      <th>...</th>\n",
       "      <td>...</td>\n",
       "      <td>...</td>\n",
       "    </tr>\n",
       "    <tr>\n",
       "      <th>93984</th>\n",
       "      <td>17</td>\n",
       "      <td>17</td>\n",
       "    </tr>\n",
       "    <tr>\n",
       "      <th>7013</th>\n",
       "      <td>5</td>\n",
       "      <td>5</td>\n",
       "    </tr>\n",
       "    <tr>\n",
       "      <th>78598</th>\n",
       "      <td>27</td>\n",
       "      <td>14</td>\n",
       "    </tr>\n",
       "    <tr>\n",
       "      <th>14614</th>\n",
       "      <td>17</td>\n",
       "      <td>17</td>\n",
       "    </tr>\n",
       "    <tr>\n",
       "      <th>82635</th>\n",
       "      <td>14</td>\n",
       "      <td>14</td>\n",
       "    </tr>\n",
       "  </tbody>\n",
       "</table>\n",
       "<p>20665 rows × 2 columns</p>\n",
       "</div>"
      ],
      "text/plain": [
       "       y_test  y_pred\n",
       "93336      19       5\n",
       "1550       14      14\n",
       "58515      17      17\n",
       "78259       5       5\n",
       "35286      17      17\n",
       "...       ...     ...\n",
       "93984      17      17\n",
       "7013        5       5\n",
       "78598      27      14\n",
       "14614      17      17\n",
       "82635      14      14\n",
       "\n",
       "[20665 rows x 2 columns]"
      ]
     },
     "execution_count": 30,
     "metadata": {},
     "output_type": "execute_result"
    }
   ],
   "source": [
    "df_comp = pd.DataFrame({'y_test':y_test, 'y_pred':y_pred_nb})\n",
    "df_comp"
   ]
  },
  {
   "cell_type": "code",
   "execution_count": null,
   "id": "e36ec2ce",
   "metadata": {},
   "outputs": [],
   "source": []
  }
 ],
 "metadata": {
  "kernelspec": {
   "display_name": "Python 3 (ipykernel)",
   "language": "python",
   "name": "python3"
  },
  "language_info": {
   "codemirror_mode": {
    "name": "ipython",
    "version": 3
   },
   "file_extension": ".py",
   "mimetype": "text/x-python",
   "name": "python",
   "nbconvert_exporter": "python",
   "pygments_lexer": "ipython3",
   "version": "3.9.7"
  }
 },
 "nbformat": 4,
 "nbformat_minor": 5
}
